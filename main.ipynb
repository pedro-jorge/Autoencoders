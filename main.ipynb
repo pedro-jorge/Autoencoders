{
 "cells": [
  {
   "cell_type": "markdown",
   "metadata": {},
   "source": [
    "### Pedro Jorge Oliveira Câmara - Álgebra Linear Aplicada - Autoencoders"
   ]
  },
  {
   "cell_type": "code",
   "execution_count": null,
   "metadata": {},
   "outputs": [],
   "source": [
    "import numpy as np\n",
    "from numpy.linalg import *\n",
    "\n",
    "import matplotlib.pyplot as plt\n",
    "\n",
    "import torch\n",
    "import torch.nn as nn \n",
    "import torch.optim as optim\n",
    "\n",
    "from typing import *\n",
    "\n",
    "# para passar as instâncias do pytorch para a GPU caso tenha uma \n",
    "# (no meu caso tem)\n",
    "device = torch.device(\"cuda\" if torch.cuda.is_available() else \"cpu\")"
   ]
  },
  {
   "cell_type": "markdown",
   "metadata": {},
   "source": [
    "### Funções auxiliares "
   ]
  },
  {
   "cell_type": "code",
   "execution_count": null,
   "metadata": {},
   "outputs": [],
   "source": [
    "def plot_signal(sample_points: np.ndarray, signals: np.ndarray, label: str = \"Sinais com ruído\", color=None) -> None:\n",
    "    \"\"\"\n",
    "    Plota um conjunto de sinais.\n",
    "\n",
    "    Args:\n",
    "        sample_points (np.ndarray): lista de pontos do domínio\n",
    "        signals (np.ndarray): matriz ou vetor de sinais com amostragens para os valores do sinal em cada ponto\n",
    "        label (str, optional): Título do plot. Defaults to \"Sinais com ruído\".\n",
    "    \"\"\"\n",
    "    plt.plot(sample_points, signals)\n",
    "    plt.title(label)\n",
    "    plt.xlabel(\"Tempo\")\n",
    "    plt.ylabel(\"Amplitude\")\n",
    "    plt.show()\n",
    "    \n",
    "\n",
    "def plot_signal_comparison(sample_points: np.ndarray, signals: dict, label: str, colors = List) -> None:\n",
    "    for signal_name, color in zip(signals.keys(), colors):\n",
    "        plt.plot(sample_points, signals[signal_name], label=signal_name, color = color)\n",
    "    \n",
    "    plt.title(label)\n",
    "    plt.xlabel(\"Tempo\")\n",
    "    plt.ylabel(\"Amplitude\")\n",
    "    plt.legend()\n",
    "    plt.show()"
   ]
  },
  {
   "cell_type": "code",
   "execution_count": null,
   "metadata": {},
   "outputs": [],
   "source": [
    "def get_f(m: float = 0, s: float = 1.5):\n",
    "    \"\"\"\n",
    "    Retorna aleatoriamente uma função `f` trigonométrica ou combinadas de funções trigonométricas.\n",
    "    Para gerar mais variações nos sinais, as funções causam uma perturbação na entrada. Por exemplo: sin(x*0.4), cos(x*(-0.2)). \n",
    "    A perturbação é dada por uma amostra de uma distribuição normal de média `m` e desvio padrão `s`, gerada a cada vez que uma função é retornada.\n",
    "\n",
    "    Returns:\n",
    "        Callable: uma função f \n",
    "    \"\"\"\n",
    "    r = np.random.normal\n",
    "    \n",
    "    functions = (\n",
    "        lambda x: np.sin(x*r(m, s)),\n",
    "        lambda x: np.cos(x*r(m, s)),\n",
    "        lambda x: np.sin(x*r(m, s)) + np.cos(x*r(m, s)),\n",
    "        lambda x: np.sin(x*r(m, s)) - np.cos(x*r(m, s)),\n",
    "        lambda x: np.sin(x*r(m, s)) * np.cos(x*r(m, s)),\n",
    "    )\n",
    "    \n",
    "    f = np.random.choice(functions)\n",
    "    \n",
    "    return f"
   ]
  },
  {
   "cell_type": "code",
   "execution_count": null,
   "metadata": {},
   "outputs": [],
   "source": [
    "def add_noise(signals: np.ndarray, level: float = 0.1, mean: float = 0, std: float = 1) -> float:\n",
    "    \"\"\"\n",
    "    Adiciona ruído a um sinal. O ruído é uma amostra de uma distribuição normal de média `mean` e desvio padrão `std`.\n",
    "\n",
    "    Args:\n",
    "        signal_vector (np.ndarray): vetor ou matrix em que será adicionado o ruído\n",
    "        level (float, optional): nível do ruído. Defaults to 1.\n",
    "        mean (float, optional): média da distribuição normal. Defaults to 0.\n",
    "        std (float, optional): desvio padrão da distribuição normal. Defaults to 1.\n",
    "\n",
    "    Returns:\n",
    "        float: _description_\n",
    "    \"\"\"\n",
    "    return signals + (np.random.normal(mean, std, size=signals.shape) * level)\n",
    "\n",
    "\n",
    "def generate_signal_vector(f: Callable, sample_points: np.ndarray) -> np.ndarray:\n",
    "    \"\"\"\n",
    "    Gera um vetor de sinais. Cada idx é um \"instante de tempo\" e cada v[idx] é o valor correspondente do sinal.\n",
    "\n",
    "    Args:\n",
    "        f (Callable): função para aplicar aos pontos\n",
    "        sample_points (np.ndarray): domínio da amostra\n",
    "\n",
    "    Returns:\n",
    "        np.ndarray: vetor de sinais \n",
    "    \"\"\"\n",
    "    return f(sample_points)\n",
    "    \n",
    "    \n",
    "def generate_signal_matrix(n_signals: int,  sample_points: np.ndarray) -> np.ndarray:\n",
    "    \"\"\"\n",
    "    Gera uma matriz de sinais. Cada linha é um vetor de sinais.\n",
    "    Dada uma linha L, cada idx é um \"instante de tempo\" e cada L[idx] é o valor correspondente do sinal.\n",
    "\n",
    "    Args:\n",
    "        n_signals (int): número de sinais a serem amostrados. (número de linhas da matriz)\n",
    "        sample_points (np.ndarray): domínio da amostra\n",
    "\n",
    "    Returns:\n",
    "        np.ndarray: matriz de sinais\n",
    "    \"\"\"\n",
    "    n_points = sample_points.size\n",
    "    \n",
    "    m = np.zeros((n_signals, n_points))\n",
    "    for i in range(n_signals):\n",
    "        f = get_f()\n",
    "        m[i, :] = generate_signal_vector(f, sample_points)\n",
    "    \n",
    "    return m\n",
    "\n",
    "\n",
    "def generate_sample_points(start: float, stop: float, step: float) -> np.ndarray:\n",
    "    \"\"\"\n",
    "    Gera o domínio da amostra\n",
    "\n",
    "    Args:\n",
    "        start (float): menor valor do domínio\n",
    "        stop (float): maior valor do domínio\n",
    "        step (float): tamanho do passo entre o menor e o maior valor\n",
    "\n",
    "    Returns:\n",
    "        np.ndarray: amostra de pontos no intervalo [`start`, `stop`) com passo `step`\n",
    "    \"\"\"\n",
    "    return np.arange(start, stop, step)"
   ]
  },
  {
   "cell_type": "markdown",
   "metadata": {},
   "source": [
    "### Definição do Autoencoder"
   ]
  },
  {
   "cell_type": "code",
   "execution_count": null,
   "metadata": {},
   "outputs": [],
   "source": [
    "class Autoencoder(nn.Module):\n",
    "    def __init__(self, activation: Callable):\n",
    "        \"\"\"\n",
    "        Args:\n",
    "            activation (Callable): função de ativação\n",
    "        \"\"\"\n",
    "        super(Autoencoder, self).__init__()\n",
    "        self.activation_name = activation.__name__\n",
    "        \n",
    "        self.encoder = nn.Sequential(\n",
    "            nn.Linear(100, 50),\n",
    "            activation(),\n",
    "            nn.Linear(50, 25),\n",
    "            activation(),\n",
    "            nn.Linear(25, 10),\n",
    "            #activation(),\n",
    "            #nn.Linear(10, 5),\n",
    "            #activation(),\n",
    "            #nn.Linear(5, 1)\n",
    "        )\n",
    "        \n",
    "        self.decoder = nn.Sequential(\n",
    "            #nn.Linear(1, 5),\n",
    "            #activation(),\n",
    "            #nn.Linear(5, 10),\n",
    "            #activation(),\n",
    "            nn.Linear(10, 25),\n",
    "            activation(),\n",
    "            nn.Linear(25, 50),\n",
    "            activation(),\n",
    "            nn.Linear(50, 100)\n",
    "        )\n",
    "    \n",
    "    def forward(self, x):\n",
    "        x = self.encoder(x)\n",
    "        x = self.decoder(x)\n",
    "        return x\n",
    "   \n",
    "    def reconstruct(self, signals):\n",
    "        signals = torch.tensor(signals, dtype=torch.float32).to(device)\n",
    "        self.eval()\n",
    "        with torch.no_grad():\n",
    "            return self.forward(signals).detach().cpu().numpy()"
   ]
  },
  {
   "cell_type": "markdown",
   "metadata": {},
   "source": [
    "### Instanciação e treinamento do Autoencoder"
   ]
  },
  {
   "cell_type": "code",
   "execution_count": null,
   "metadata": {},
   "outputs": [],
   "source": [
    "def train(signals_np: np.ndarray, n_epochs: int, activation, lr):\n",
    "    activation = activation \n",
    "    lr = lr \n",
    "    \n",
    "    autoencoder = Autoencoder(activation = activation).to(device)\n",
    "    criterion = nn.MSELoss().to(device)\n",
    "    optimizer = optim.Adam(autoencoder.parameters(), lr=lr)\n",
    "    signals = torch.tensor(signals_np, dtype=torch.float32).to(device)\n",
    "    \n",
    "    for epoch in range(n_epochs):\n",
    "        outputs = autoencoder(signals)\n",
    "        loss = criterion(outputs, signals)\n",
    "        \n",
    "        optimizer.zero_grad()\n",
    "        loss.backward()\n",
    "        optimizer.step()\n",
    "        \n",
    "        if (epoch+1) % 10 == 0:\n",
    "            print(f'Epoch [{epoch+1}/{n_epochs}], Loss: {loss.item():.4f}')\n",
    "\n",
    "    return autoencoder"
   ]
  },
  {
   "cell_type": "code",
   "execution_count": null,
   "metadata": {},
   "outputs": [],
   "source": [
    "start = 0\n",
    "stop = 10\n",
    "step = 0.1\n",
    "\n",
    "n_samples = 100000\n",
    "n_epochs = 10000\n",
    "\n",
    "sample_points = generate_sample_points(start, stop, step)\n",
    "signals_matrix = generate_signal_matrix(n_samples, sample_points)"
   ]
  },
  {
   "cell_type": "code",
   "execution_count": null,
   "metadata": {},
   "outputs": [],
   "source": [
    "params = dict(activation = None, lr = 0.005) \n",
    "\n",
    "activations = (nn.ReLU, nn.Sigmoid, nn.Tanh, nn.LeakyReLU, nn.PReLU, nn.GELU,)\n",
    "autoencoders = []\n",
    "\n",
    "for activation in activations:\n",
    "    params[\"activation\"] = activation\n",
    "    autoencoders.append(train(signals_matrix, n_epochs, **params))"
   ]
  },
  {
   "cell_type": "markdown",
   "metadata": {},
   "source": [
    "### Singular Value Decomposition"
   ]
  },
  {
   "cell_type": "code",
   "execution_count": null,
   "metadata": {},
   "outputs": [],
   "source": [
    "def svd_reconstruction(signal_matrix: np.ndarray, n_components: int) -> np.ndarray:\n",
    "    \"\"\"\n",
    "    Reconstrói uma matriz até o posto `n_components`.\n",
    "\n",
    "    Args:\n",
    "        U (np.ndarray): matriz U do SVD\n",
    "        S (np.ndarray): matriz S do SVD\n",
    "        V (np.ndarray): matriz V do SVD\n",
    "        n_components (int): posto da matriz reconstruída\n",
    "\n",
    "    Returns:\n",
    "        np.ndarray: matriz original reconstruída com posto igual a n_components\n",
    "    \"\"\"\n",
    "    U, S, V = svd(signal_matrix)\n",
    "    \n",
    "    U = U[:, :n_components]\n",
    "    S = np.diag(S[:n_components])\n",
    "    V = V[:n_components, :]\n",
    "    \n",
    "    return U @ S @ V"
   ]
  },
  {
   "cell_type": "markdown",
   "metadata": {},
   "source": [
    "### Experimentos"
   ]
  },
  {
   "cell_type": "code",
   "execution_count": null,
   "metadata": {},
   "outputs": [],
   "source": [
    "def generate_noisy_signal_matrix(f: Callable, n_signals: int,  sample_points: np.ndarray, noisy = True) -> np.ndarray:\n",
    "    \"\"\"\n",
    "    Gera uma matriz de sinais. Cada linha é um vetor de sinais.\n",
    "    Dada uma linha L, cada idx é um \"instante de tempo\" e cada L[idx] é o valor correspondente do sinal.\n",
    "\n",
    "    Args:\n",
    "        n_signals (int): número de sinais a serem amostrados. (número de linhas da matriz)\n",
    "        sample_points (np.ndarray): domínio da amostra\n",
    "\n",
    "    Returns:\n",
    "        np.ndarray: matriz de sinais\n",
    "    \"\"\"\n",
    "    n_points = sample_points.size\n",
    "    \n",
    "    m = np.zeros((n_signals, n_points))\n",
    "    for i in range(n_signals):\n",
    "        m[i, :] = generate_signal_vector(f, sample_points)\n",
    "        if noisy:\n",
    "            m[i, :] = add_noise(m[i, :], level = 1)\n",
    "    \n",
    "    return m"
   ]
  },
  {
   "cell_type": "code",
   "execution_count": null,
   "metadata": {},
   "outputs": [],
   "source": [
    "def plot_svd_experiments(sample_points, noisy_signals, clean_signals, rank, signal_label):\n",
    "    plot_signal(sample_points, noisy_signals.T, f\"{signal_label} com ruído\")\n",
    "    \n",
    "    reconstruction = svd_reconstruction(noisy_signals.T, rank)\n",
    "    \n",
    "    plot_signal(sample_points, reconstruction, f\"{signal_label} reconstruído - SVD posto 1\")\n",
    "    plot_signal(sample_points, reconstruction.T.mean(axis=0), f\"{signal_label} reconstruído - SVD posto 1\")\n",
    "    \n",
    "    signals = dict(Original = clean_signals.T, Reconstrução = reconstruction.T.mean(axis=0))\n",
    "    plot_signal_comparison(sample_points, signals, label = f\"{signal_label} reconstruído - SVD posto {rank}\", colors = [\"red\", \"blue\"])\n",
    "    \n",
    "    \n",
    "def plot_autoencoder_experiments(autoencoder, sample_points, noisy_signals, clean_signals, dimension, signal_label):\n",
    "    #plot_signal(sample_points, noisy_signals.T, f\"{signal_label} com ruído\")\n",
    "\n",
    "    reconstruction = autoencoder.reconstruct(sin)\n",
    "\n",
    "    plot_signal(sample_points, reconstruction.T, f\"{signal_label} reconstruído - Autoencoder - Espaço latente {dimension}d - Ativação: {autoencoder.activation_name}\")\n",
    "    plot_signal(sample_points, reconstruction.mean(axis=0), f\"{signal_label} reconstruído - Autoencoder - Espaço latente {dimension}d - Ativação: {autoencoder.activation_name}\")\n",
    "\n",
    "    signals = dict(Original = clean_signals.T, Reconstrução = reconstruction.mean(axis=0))\n",
    "    plot_signal_comparison(sample_points, signals, label = f\"{signal_label} reconstruído - Autoencoder - Espaço latente {dimension}d - Ativação: {autoencoder.activation_name}\", colors = [\"red\", \"blue\"])\n"
   ]
  },
  {
   "cell_type": "code",
   "execution_count": null,
   "metadata": {},
   "outputs": [],
   "source": [
    "n_signals = 10\n",
    "\n",
    "f = lambda x: np.sin(0.5*x) * np.cos(2*x)\n",
    "\n",
    "sin_clean = generate_noisy_signal_matrix(f, 1, sample_points, noisy = False)\n",
    "sin = generate_noisy_signal_matrix(f, n_signals, sample_points)\n",
    "\n",
    "label = \"F\""
   ]
  },
  {
   "cell_type": "code",
   "execution_count": null,
   "metadata": {},
   "outputs": [],
   "source": [
    "dimension = 10\n",
    "\n",
    "for autoencoder in autoencoders:\n",
    "    plot_autoencoder_experiments(autoencoder, sample_points, sin, sin_clean, dimension, label)"
   ]
  },
  {
   "cell_type": "code",
   "execution_count": null,
   "metadata": {},
   "outputs": [],
   "source": [
    "plot_signal(sample_points, sin_clean.T, \"F sem ruído\")"
   ]
  },
  {
   "cell_type": "code",
   "execution_count": null,
   "metadata": {},
   "outputs": [],
   "source": [
    "rank = 1\n",
    "plot_svd_experiments(sample_points, sin, sin_clean, rank, label)"
   ]
  },
  {
   "cell_type": "code",
   "execution_count": null,
   "metadata": {},
   "outputs": [],
   "source": [
    "norm(sin_clean - (autoencoder.reconstruct(sin).mean(axis=0)))"
   ]
  },
  {
   "cell_type": "code",
   "execution_count": null,
   "metadata": {},
   "outputs": [],
   "source": [
    "norm(sin_clean - svd_reconstruction(sin, 1).mean(axis=0))"
   ]
  },
  {
   "cell_type": "code",
   "execution_count": null,
   "metadata": {},
   "outputs": [],
   "source": []
  },
  {
   "cell_type": "code",
   "execution_count": null,
   "metadata": {},
   "outputs": [],
   "source": []
  }
 ],
 "metadata": {
  "kernelspec": {
   "display_name": "Python 3",
   "language": "python",
   "name": "python3"
  },
  "language_info": {
   "codemirror_mode": {
    "name": "ipython",
    "version": 3
   },
   "file_extension": ".py",
   "mimetype": "text/x-python",
   "name": "python",
   "nbconvert_exporter": "python",
   "pygments_lexer": "ipython3",
   "version": "3.11.4"
  }
 },
 "nbformat": 4,
 "nbformat_minor": 2
}
